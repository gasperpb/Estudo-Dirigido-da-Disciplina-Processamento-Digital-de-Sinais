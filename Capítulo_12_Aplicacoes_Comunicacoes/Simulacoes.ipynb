{
 "cells": [
  {
   "cell_type": "markdown",
   "metadata": {},
   "source": [
    "# Simulações para Aplicações em Comunicações\n",
    "\n",
    "Este notebook contém simulações relevantes para o estudo das aplicações em comunicações. As simulações abordam tópicos como modulação, demodulação, e análise de sinais em diferentes cenários."
   ]
  },
  {
   "cell_type": "code",
   "execution_count": null,
   "metadata": {},
   "outputs": [],
   "source": [
    "# Importar bibliotecas necessárias\n",
    "import numpy as np\n",
    "import matplotlib.pyplot as plt\n",
    "\n",
    "# Definir parâmetros da simulação\n",
    "fs = 1000  # Frequência de amostragem\n",
    "t = np.arange(0, 1, 1/fs)  # Tempo de 0 a 1 segundo\n",
    "\n",
    "# Criar um sinal de exemplo (sinal senoidal)\n",
    "f = 5  # Frequência do sinal\n",
    "sinal = np.sin(2 * np.pi * f * t)\n",
    "\n",
    "# Plotar o sinal\n",
    "plt.figure(figsize=(10, 4))\n",
    "plt.plot(t, sinal)\n",
    "plt.title('Sinal Senoidal')\n",
    "plt.xlabel('Tempo (s)')\n",
    "plt.ylabel('Amplitude')\n",
    "plt.grid(True)\n",
    "plt.show()"
   ]
  }
 ],
 "metadata": {
  "kernelspec": {
   "display_name": "Python 3",
   "language": "python",
   "name": "python3"
  },
  "language_info": {
   "codemirror_mode": {
    "name": "ipython",
    "version": 3
   },
   "file_extension": ".py",
   "mimetype": "text/x-python",
   "name": "python",
   "nbconvert_exporter": "python",
   "pygments_lexer": "ipython3",
   "version": "3.8.5"
  }
 },
 "nbformat": 4,
 "nbformat_minor": 4
}