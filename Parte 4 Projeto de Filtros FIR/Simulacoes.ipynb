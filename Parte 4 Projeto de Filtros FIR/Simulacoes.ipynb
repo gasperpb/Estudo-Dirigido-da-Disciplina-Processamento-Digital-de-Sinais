{
 "cells": [
  {
   "cell_type": "markdown",
   "metadata": {},
   "source": [
    "# Simulações de Filtros FIR\n",
    "\n",
    "Este notebook contém simulações relacionadas aos filtros FIR (Finite Impulse Response). As simulações demonstram o comportamento e as características dos filtros FIR em diferentes condições."
   ]
  },
  {
   "cell_type": "code",
   "execution_count": null,
   "metadata": {
    "collapsed": false
   },
   "outputs": [],
   "source": [
    "# Importando bibliotecas necessárias\n",
    "import numpy as np\n",
    "import matplotlib.pyplot as plt\n",
    "from scipy.signal import firwin, lfilter\n",
    "\n",
    "# Definindo parâmetros do filtro\n",
    "numtaps = 21  # Número de coeficientes do filtro\n",
    "cutoff = 0.3  # Frequência de corte (normalizada)\n",
    "\n",
    "# Criando o filtro FIR\n",
    "coefficients = firwin(numtaps, cutoff)\n",
    "\n",
    "# Gerando um sinal de teste\n",
    "fs = 100  # Frequência de amostragem\n",
    "t = np.arange(0, 1.0, 1/fs)\n",
    "signal = np.sin(2 * np.pi * 5 * t) + 0.5 * np.random.randn(len(t))  # Sinal com ruído\n",
    "\n",
    "# Aplicando o filtro ao sinal\n",
    "filtered_signal = lfilter(coefficients, 1.0, signal)\n",
    "\n",
    "# Plotando os resultados\n",
    "plt.figure(figsize=(12, 6))\n",
    "plt.subplot(2, 1, 1)\n",
    "plt.plot(t, signal, label='Sinal Original')\n",
    "plt.title('Sinal Original com Ruído')\n",
    "plt.xlabel('Tempo [s]')\n",
    "plt.ylabel('Amplitude')\n",
    "plt.legend()\n",
    "\n",
    "plt.subplot(2, 1, 2)\n",
    "plt.plot(t, filtered_signal, label='Sinal Filtrado', color='orange')\n",
    "plt.title('Sinal Após Aplicação do Filtro FIR')\n",
    "plt.xlabel('Tempo [s]')\n",
    "plt.ylabel('Amplitude')\n",
    "plt.legend()\n",
    "plt.tight_layout()\n",
    "plt.show()"
   ]
  }
 ],
 "metadata": {
  "kernelspec": {
   "display_name": "Python 3",
   "language": "python",
   "name": "python3"
  },
  "language_info": {
   "codemirror_mode": {
    "name": "ipython",
    "version": 3
   },
   "file_extension": ".py",
   "mimetype": "text/x-python",
   "name": "python",
   "nbconvert_exporter": "python",
   "pygments_lexer": "ipython3",
   "version": "3.8.5"
  }
 },
 "nbformat": 4,
 "nbformat_minor": 4
}