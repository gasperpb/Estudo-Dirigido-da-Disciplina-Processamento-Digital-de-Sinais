{
 "cells": [
  {
   "cell_type": "markdown",
   "metadata": {},
   "source": [
    "# Simulações de Filtros IIR\n",
    "\n",
    "Este notebook contém simulações relevantes para o estudo de filtros IIR (Infinite Impulse Response). As simulações demonstram o comportamento e as características dos filtros IIR em diferentes condições."
   ]
  },
  {
   "cell_type": "code",
   "execution_count": null,
   "metadata": {
    "collapsed": false
   },
   "outputs": [],
   "source": [
    "# Importando bibliotecas necessárias\n",
    "import numpy as np\n",
    "import matplotlib.pyplot as plt\n",
    "from scipy.signal import lfilter, freqz\n",
    "\n",
    "# Definindo parâmetros do filtro IIR\n",
    "b = [0.1, 0.2, 0.1]  # Coeficientes do numerador\n",
    "a = [1, -0.3, 0.2]   # Coeficientes do denominador\n",
    "\n",
    "# Gerando um sinal de entrada\n",
    "fs = 1000  # Frequência de amostragem\n",
    "t = np.linspace(0, 1, fs, endpoint=False)  # Tempo\n",
    "input_signal = np.sin(2 * np.pi * 5 * t) + 0.5 * np.random.randn(fs)  # Sinal com ruído\n",
    "\n",
    "# Aplicando o filtro IIR\n",
    "output_signal = lfilter(b, a, input_signal)\n",
    "\n",
    "# Plotando os sinais\n",
    "plt.figure(figsize=(12, 6))\n",
    "plt.subplot(2, 1, 1)\n",
    "plt.plot(t, input_signal, label='Sinal de Entrada')\n",
    "plt.title('Sinal de Entrada')\n",
    "plt.xlabel('Tempo [s]')\n",
    "plt.ylabel('Amplitude')\n",
    "plt.legend()\n",
    "\n",
    "plt.subplot(2, 1, 2)\n",
    "plt.plot(t, output_signal, label='Sinal Filtrado', color='orange')\n",
    "plt.title('Sinal Filtrado com Filtro IIR')\n",
    "plt.xlabel('Tempo [s]')\n",
    "plt.ylabel('Amplitude')\n",
    "plt.legend()\n",
    "plt.tight_layout()\n",
    "plt.show()"
   ]
  }
 ],
 "metadata": {
  "kernelspec": {
   "display_name": "Python 3",
   "language": "python",
   "name": "python3"
  },
  "language_info": {
   "codemirror_mode": {
    "name": "ipython",
    "version": 3
   },
   "file_extension": ".py",
   "mimetype": "text/x-python",
   "name": "python",
   "nbconvert_exporter": "python",
   "pygments_lexer": "ipython3",
   "version": "3.8.5"
  }
 },
 "nbformat": 4,
 "nbformat_minor": 4
}