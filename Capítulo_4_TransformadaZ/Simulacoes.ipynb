{
 "cells": [
  {
   "cell_type": "markdown",
   "metadata": {},
   "source": [
    "# Simulações da Transformada Z\n",
    "\n",
    "Este notebook contém simulações relacionadas ao tema da Transformada Z. As simulações demonstram conceitos fundamentais e aplicações práticas da Transformada Z em sinais e sistemas."
   ]
  },
  {
   "cell_type": "code",
   "execution_count": null,
   "metadata": {
    "collapsed": false
   },
   "outputs": [],
   "source": [
    "# Importar bibliotecas necessárias\n",
    "import numpy as np\n",
    "import matplotlib.pyplot as plt\n",
    "\n",
    "# Definir parâmetros da simulação\n",
    "N = 1000  # Número de pontos\n",
    "t = np.linspace(0, 1, N)  # Tempo\n",
    "f = 5  # Frequência\n",
    "\n",
    "# Sinal de entrada\n",
    "x = np.sin(2 * np.pi * f * t)\n",
    "\n",
    "# Aplicar a Transformada Z (exemplo simplificado)\n",
    "Z = np.fft.fft(x)\n",
    "\n",
    "# Plotar resultados\n",
    "plt.figure(figsize=(12, 6))\n",
    "plt.subplot(2, 1, 1)\n",
    "plt.plot(t, x)\n",
    "plt.title('Sinal de Entrada')\n",
    "plt.xlabel('Tempo (s)')\n",
    "plt.ylabel('Amplitude')\n",
    "\n",
    "plt.subplot(2, 1, 2)\n",
    "plt.plot(np.abs(Z))\n",
    "plt.title('Transformada Z do Sinal')\n",
    "plt.xlabel('Frequência (Hz)')\n",
    "plt.ylabel('Magnitude')\n",
    "plt.tight_layout()\n",
    "plt.show()"
   ]
  }
 ],
 "metadata": {
  "kernelspec": {
   "display_name": "Python 3",
   "language": "python",
   "name": "python3"
  },
  "language_info": {
   "codemirror_mode": {
    "name": "ipython",
    "version": 3
   },
   "file_extension": ".py",
   "mimetype": "text/x-python",
   "name": "python",
   "nbconvert_exporter": "python",
   "pygments_lexer": "ipython3",
   "version": "3.8.5"
  }
 },
 "nbformat": 4,
 "nbformat_minor": 4
}