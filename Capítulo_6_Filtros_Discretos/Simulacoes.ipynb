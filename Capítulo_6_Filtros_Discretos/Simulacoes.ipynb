{
 "cells": [
  {
   "cell_type": "markdown",
   "metadata": {},
   "source": [
    "# Simulações de Filtros Discretos\n",
    "\n",
    "Este notebook contém simulações relevantes para o estudo de filtros discretos. As simulações incluem a implementação de diferentes tipos de filtros e a análise de suas respostas."
   ]
  },
  {
   "cell_type": "code",
   "execution_count": null,
   "metadata": {
    "collapsed": false
   },
   "outputs": [],
   "source": [
    "# Importando bibliotecas necessárias\n",
    "import numpy as np\n",
    "import matplotlib.pyplot as plt\n",
    "\n",
    "# Definindo parâmetros do filtro\n",
    "fs = 1000  # Frequência de amostragem\n",
    "f = 50    # Frequência do sinal\n",
    "t = np.arange(0, 1, 1/fs)  # Tempo\n",
    "sinal = np.sin(2 * np.pi * f * t)  # Sinal original\n",
    "\n",
    "# Implementando um filtro passa-baixa\n",
    "from scipy.signal import butter, lfilter\n",
    "\n",
    "def butter_lowpass(cutoff, fs, order=5):\n",
    "    nyq = 0.5 * fs\n",
    "    normal_cutoff = cutoff / nyq\n",
    "    b, a = butter(order, normal_cutoff, btype='low', analog=False)\n",
    "    return b, a\n",
    "\n",
    "def lowpass_filter(data, cutoff, fs, order=5):\n",
    "    b, a = butter_lowpass(cutoff, fs, order=order)\n",
    "    y = lfilter(b, a, data)\n",
    "    return y\n",
    "\n",
    "# Aplicando o filtro\n",
    "cutoff = 100  # Frequência de corte\n",
    "sinal_filtrado = lowpass_filter(sinal, cutoff, fs)\n",
    "\n",
    "# Plotando os resultados\n",
    "plt.figure(figsize=(10, 6))\n",
    "plt.subplot(2, 1, 1)\n",
    "plt.plot(t, sinal, label='Sinal Original')\n",
    "plt.title('Sinal Original')\n",
    "plt.xlabel('Tempo (s)')\n",
    "plt.ylabel('Amplitude')\n",
    "plt.grid()\n",
    "plt.legend()\n",
    "\n",
    "plt.subplot(2, 1, 2)\n",
    "plt.plot(t, sinal_filtrado, label='Sinal Filtrado', color='orange')\n",
    "plt.title('Sinal Filtrado com Filtro Passa-Baixa')\n",
    "plt.xlabel('Tempo (s)')\n",
    "plt.ylabel('Amplitude')\n",
    "plt.grid()\n",
    "plt.legend()\n",
    "plt.tight_layout()\n",
    "plt.show()"
   ]
  }
 ],
 "metadata": {
  "kernelspec": {
   "display_name": "Python 3",
   "language": "python",
   "name": "python3"
  },
  "language_info": {
   "codemirror_mode": {
    "name": "ipython",
    "version": 3
   },
   "file_extension": ".py",
   "mimetype": "text/x-python",
   "name": "python",
   "nbconvert_exporter": "python",
   "pygments_lexer": "ipython3",
   "version": "3.8.5"
  }
 },
 "nbformat": 4,
 "nbformat_minor": 4
}