{
 "cells": [
  {
   "cell_type": "markdown",
   "metadata": {},
   "source": [
    "# Simulações para a Transformada Discreta de Fourier (DFT)\n",
    "\n",
    "Este notebook contém simulações relacionadas à Transformada Discreta de Fourier (DFT). As simulações demonstram como a DFT é aplicada em diferentes cenários e como ela pode ser utilizada para analisar sinais."
   ]
  },
  {
   "cell_type": "code",
   "execution_count": null,
   "metadata": {
    "collapsed": false
   },
   "outputs": [],
   "source": [
    "# Importando bibliotecas necessárias\n",
    "import numpy as np\n",
    "import matplotlib.pyplot as plt\n",
    "\n",
    "# Definindo parâmetros do sinal\n",
    "fs = 1000  # Frequência de amostragem\n",
    "t = np.arange(0, 1, 1/fs)  # Tempo\n",
    "f1 = 50  # Frequência do sinal 1\n",
    "f2 = 120  # Frequência do sinal 2\n",
    "\n",
    "# Criando um sinal composto\n",
    "sinal = 0.5 * np.sin(2 * np.pi * f1 * t) + 0.5 * np.sin(2 * np.pi * f2 * t)\n",
    "\n",
    "# Calculando a DFT\n",
    "dft = np.fft.fft(sinal)\n",
    "frequencias = np.fft.fftfreq(len(sinal), 1/fs)\n",
    "\n",
    "# Plotando o sinal original\n",
    "plt.figure(figsize=(12, 6))\n",
    "plt.subplot(2, 1, 1)\n",
    "plt.plot(t, sinal)\n",
    "plt.title('Sinal Original')\n",
    "plt.xlabel('Tempo (s)')\n",
    "plt.ylabel('Amplitude')\n",
    "\n",
    "# Plotando a magnitude da DFT\n",
    "plt.subplot(2, 1, 2)\n",
    "plt.plot(frequencias, np.abs(dft))\n",
    "plt.title('Magnitude da DFT')\n",
    "plt.xlabel('Frequência (Hz)')\n",
    "plt.ylabel('Magnitude')\n",
    "plt.xlim(0, 200)\n",
    "plt.tight_layout()\n",
    "plt.show()"
   ]
  }
 ],
 "metadata": {
  "kernelspec": {
   "display_name": "Python 3",
   "language": "python",
   "name": "python3"
  },
  "language_info": {
   "codemirror_mode": {
    "name": "ipython",
    "version": 3
   },
   "file_extension": ".py",
   "mimetype": "text/x-python",
   "name": "python",
   "nbconvert_exporter": "python",
   "pygments_lexer": "ipython3",
   "version": "3.8.5"
  }
 },
 "nbformat": 4,
 "nbformat_minor": 4
}